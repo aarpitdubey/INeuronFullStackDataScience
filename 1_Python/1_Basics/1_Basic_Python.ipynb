{
 "cells": [
  {
   "cell_type": "code",
   "execution_count": 1,
   "id": "1ac04702",
   "metadata": {},
   "outputs": [
    {
     "name": "stdout",
     "output_type": "stream",
     "text": [
      "The Zen of Python, by Tim Peters\n",
      "\n",
      "Beautiful is better than ugly.\n",
      "Explicit is better than implicit.\n",
      "Simple is better than complex.\n",
      "Complex is better than complicated.\n",
      "Flat is better than nested.\n",
      "Sparse is better than dense.\n",
      "Readability counts.\n",
      "Special cases aren't special enough to break the rules.\n",
      "Although practicality beats purity.\n",
      "Errors should never pass silently.\n",
      "Unless explicitly silenced.\n",
      "In the face of ambiguity, refuse the temptation to guess.\n",
      "There should be one-- and preferably only one --obvious way to do it.\n",
      "Although that way may not be obvious at first unless you're Dutch.\n",
      "Now is better than never.\n",
      "Although never is often better than *right* now.\n",
      "If the implementation is hard to explain, it's a bad idea.\n",
      "If the implementation is easy to explain, it may be a good idea.\n",
      "Namespaces are one honking great idea -- let's do more of those!\n"
     ]
    }
   ],
   "source": [
    "# spell out guidelines to related to the development of Python code.\n",
    "import this"
   ]
  },
  {
   "cell_type": "code",
   "execution_count": 2,
   "id": "53759cf7",
   "metadata": {},
   "outputs": [
    {
     "name": "stdout",
     "output_type": "stream",
     "text": [
      "97\n",
      "--------------------------------------------------------------------------------\n",
      "25\n",
      "--------------------------------------------------------------------------------\n",
      "Gur Mra bs Clguba, ol Gvz Crgref\n",
      "\n",
      "Ornhgvshy vf orggre guna htyl.\n",
      "Rkcyvpvg vf orggre guna vzcyvpvg.\n",
      "Fvzcyr vf orggre guna pbzcyrk.\n",
      "Pbzcyrk vf orggre guna pbzcyvpngrq.\n",
      "Syng vf orggre guna arfgrq.\n",
      "Fcnefr vf orggre guna qrafr.\n",
      "Ernqnovyvgl pbhagf.\n",
      "Fcrpvny pnfrf nera'g fcrpvny rabhtu gb oernx gur ehyrf.\n",
      "Nygubhtu cenpgvpnyvgl orngf chevgl.\n",
      "Reebef fubhyq arire cnff fvyragyl.\n",
      "Hayrff rkcyvpvgyl fvyraprq.\n",
      "Va gur snpr bs nzovthvgl, ershfr gur grzcgngvba gb thrff.\n",
      "Gurer fubhyq or bar-- naq cersrenoyl bayl bar --boivbhf jnl gb qb vg.\n",
      "Nygubhtu gung jnl znl abg or boivbhf ng svefg hayrff lbh'er Qhgpu.\n",
      "Abj vf orggre guna arire.\n",
      "Nygubhtu arire vf bsgra orggre guna *evtug* abj.\n",
      "Vs gur vzcyrzragngvba vf uneq gb rkcynva, vg'f n onq vqrn.\n",
      "Vs gur vzcyrzragngvba vf rnfl gb rkcynva, vg znl or n tbbq vqrn.\n",
      "Anzrfcnprf ner bar ubaxvat terng vqrn -- yrg'f qb zber bs gubfr!\n",
      "--------------------------------------------------------------------------------\n",
      "{'A': 'N', 'B': 'O', 'C': 'P', 'D': 'Q', 'E': 'R', 'F': 'S', 'G': 'T', 'H': 'U', 'I': 'V', 'J': 'W', 'K': 'X', 'L': 'Y', 'M': 'Z', 'N': 'A', 'O': 'B', 'P': 'C', 'Q': 'D', 'R': 'E', 'S': 'F', 'T': 'G', 'U': 'H', 'V': 'I', 'W': 'J', 'X': 'K', 'Y': 'L', 'Z': 'M', 'a': 'n', 'b': 'o', 'c': 'p', 'd': 'q', 'e': 'r', 'f': 's', 'g': 't', 'h': 'u', 'i': 'v', 'j': 'w', 'k': 'x', 'l': 'y', 'm': 'z', 'n': 'a', 'o': 'b', 'p': 'c', 'q': 'd', 'r': 'e', 's': 'f', 't': 'g', 'u': 'h', 'v': 'i', 'w': 'j', 'x': 'k', 'y': 'l', 'z': 'm'}\n"
     ]
    }
   ],
   "source": [
    "print(this.c)\n",
    "print(\"-\"*80)\n",
    "print(this.i)\n",
    "print(\"-\"*80)\n",
    "print(this.s)\n",
    "print(\"-\"*80)\n",
    "print(this.d)"
   ]
  },
  {
   "cell_type": "code",
   "execution_count": 3,
   "id": "14f78b4a",
   "metadata": {},
   "outputs": [
    {
     "name": "stdout",
     "output_type": "stream",
     "text": [
      "Learning basic python syntax...\n"
     ]
    }
   ],
   "source": [
    "# To print any thing we use print() function\n",
    "\n",
    "print(\"Learning basic python syntax...\")"
   ]
  },
  {
   "cell_type": "code",
   "execution_count": 4,
   "id": "6c76b7f0",
   "metadata": {},
   "outputs": [
    {
     "data": {
      "text/plain": [
       "3"
      ]
     },
     "execution_count": 4,
     "metadata": {},
     "output_type": "execute_result"
    }
   ],
   "source": [
    "#  Addition in python\n",
    "1 + 2"
   ]
  },
  {
   "cell_type": "code",
   "execution_count": 5,
   "id": "ff757646",
   "metadata": {},
   "outputs": [
    {
     "data": {
      "text/plain": [
       "0.42857142857142855"
      ]
     },
     "execution_count": 5,
     "metadata": {},
     "output_type": "execute_result"
    }
   ],
   "source": [
    "# Division in python\n",
    "3 / 7"
   ]
  },
  {
   "cell_type": "code",
   "execution_count": 6,
   "id": "1831cd8a",
   "metadata": {},
   "outputs": [
    {
     "data": {
      "text/plain": [
       "3"
      ]
     },
     "execution_count": 6,
     "metadata": {},
     "output_type": "execute_result"
    }
   ],
   "source": [
    "# Substraction in python\n",
    "\n",
    "5 - 2"
   ]
  },
  {
   "cell_type": "code",
   "execution_count": 7,
   "id": "9f162996",
   "metadata": {},
   "outputs": [
    {
     "data": {
      "text/plain": [
       "100"
      ]
     },
     "execution_count": 7,
     "metadata": {},
     "output_type": "execute_result"
    }
   ],
   "source": [
    "# EXPONENTENT - powering up a number\n",
    "10 ** 2 # = 100"
   ]
  },
  {
   "cell_type": "code",
   "execution_count": 8,
   "id": "5e311c20",
   "metadata": {},
   "outputs": [
    {
     "name": "stdout",
     "output_type": "stream",
     "text": [
      "name = 'Arpit' has a type of = '<class 'str'>'\n",
      "--------------------------------------------------\n",
      "phone_no = 8873872872 has a type of = '<class 'int'>'\n"
     ]
    }
   ],
   "source": [
    "# string value\n",
    "name = \"Arpit\"\n",
    "\n",
    "# integer value\n",
    "phone_no = 8873872872\n",
    "\n",
    "print(f\"name = '{name}' has a type of = '{type(name)}'\")\n",
    "print('-'*50)\n",
    "print(f\"phone_no = {phone_no} has a type of = '{type(phone_no)}'\")"
   ]
  },
  {
   "cell_type": "code",
   "execution_count": 9,
   "id": "9d99774d",
   "metadata": {},
   "outputs": [
    {
     "name": "stdout",
     "output_type": "stream",
     "text": [
      "(5+6j)\n"
     ]
    },
    {
     "data": {
      "text/plain": [
       "complex"
      ]
     },
     "execution_count": 9,
     "metadata": {},
     "output_type": "execute_result"
    }
   ],
   "source": [
    "d = 5 + 6j\n",
    "print(d)\n",
    "type(d)"
   ]
  },
  {
   "cell_type": "code",
   "execution_count": 10,
   "id": "6e3ec56e",
   "metadata": {},
   "outputs": [
    {
     "name": "stdout",
     "output_type": "stream",
     "text": [
      "5464\n",
      "Arpit\n",
      "(6+7j)\n",
      "True\n",
      "546.64\n"
     ]
    }
   ],
   "source": [
    "int_     = 5464\n",
    "str_     = \"Arpit\"\n",
    "complex_ = 6 + 7j\n",
    "bool_    = True\n",
    "float_   = 546.64\n",
    "\n",
    "print(int_)\n",
    "print(str_)\n",
    "print(complex_)\n",
    "print(bool_)\n",
    "print(float_)"
   ]
  },
  {
   "cell_type": "code",
   "execution_count": 11,
   "id": "d4ee150b",
   "metadata": {},
   "outputs": [
    {
     "name": "stdout",
     "output_type": "stream",
     "text": [
      "5465\n",
      "Arpit Dubey\n",
      "(5+9j)\n",
      "False\n",
      "546.65\n"
     ]
    }
   ],
   "source": [
    "int_a, str_b, complex_c, bool_d, float_e = 5465, \"Arpit Dubey\", 5 + 9j, False, 546.65\n",
    "\n",
    "print(int_a)\n",
    "print(str_b)\n",
    "print(complex_c)\n",
    "print(bool_d)\n",
    "print(float_e)"
   ]
  },
  {
   "cell_type": "code",
   "execution_count": 12,
   "id": "887ea111",
   "metadata": {},
   "outputs": [
    {
     "data": {
      "text/plain": [
       "5.0"
      ]
     },
     "execution_count": 12,
     "metadata": {},
     "output_type": "execute_result"
    }
   ],
   "source": [
    "complex_c.real"
   ]
  },
  {
   "cell_type": "code",
   "execution_count": 13,
   "id": "0355342d",
   "metadata": {},
   "outputs": [
    {
     "data": {
      "text/plain": [
       "9.0"
      ]
     },
     "execution_count": 13,
     "metadata": {},
     "output_type": "execute_result"
    }
   ],
   "source": [
    "complex_c.imag"
   ]
  },
  {
   "cell_type": "code",
   "execution_count": 14,
   "id": "a6c74b92",
   "metadata": {},
   "outputs": [
    {
     "data": {
      "text/plain": [
       "'Arpit dubey'"
      ]
     },
     "execution_count": 14,
     "metadata": {},
     "output_type": "execute_result"
    }
   ],
   "source": [
    "str_b.capitalize()"
   ]
  },
  {
   "cell_type": "code",
   "execution_count": 15,
   "id": "33fbb4fd",
   "metadata": {},
   "outputs": [
    {
     "data": {
      "text/plain": [
       "'ARPIT DUBEY'"
      ]
     },
     "execution_count": 15,
     "metadata": {},
     "output_type": "execute_result"
    }
   ],
   "source": [
    "str_b.upper()"
   ]
  },
  {
   "cell_type": "code",
   "execution_count": 16,
   "id": "4fbeb547",
   "metadata": {},
   "outputs": [
    {
     "name": "stdout",
     "output_type": "stream",
     "text": [
      "Write a your name\n",
      "Arpit Dubey\n"
     ]
    }
   ],
   "source": [
    "input_ = input(\"Write a your name\\n\")"
   ]
  },
  {
   "cell_type": "code",
   "execution_count": 17,
   "id": "07b101ca",
   "metadata": {},
   "outputs": [
    {
     "data": {
      "text/plain": [
       "'E:\\\\AnacondaWorkspace\\\\INeuronFullStackDataScience\\\\1_Python\\\\1_Basics'"
      ]
     },
     "execution_count": 17,
     "metadata": {},
     "output_type": "execute_result"
    }
   ],
   "source": [
    "pwd()"
   ]
  }
 ],
 "metadata": {
  "kernelspec": {
   "display_name": "Python 3 (ipykernel)",
   "language": "python",
   "name": "python3"
  },
  "language_info": {
   "codemirror_mode": {
    "name": "ipython",
    "version": 3
   },
   "file_extension": ".py",
   "mimetype": "text/x-python",
   "name": "python",
   "nbconvert_exporter": "python",
   "pygments_lexer": "ipython3",
   "version": "3.7.0"
  }
 },
 "nbformat": 4,
 "nbformat_minor": 5
}
